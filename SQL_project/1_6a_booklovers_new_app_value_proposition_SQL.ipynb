{
 "cells": [
  {
   "cell_type": "markdown",
   "metadata": {},
   "source": [
    "## SQL Project - Sturtup on Apps for Book Lovers"
   ]
  },
  {
   "cell_type": "markdown",
   "metadata": {},
   "source": [
    "The coronavirus took the entire world by surprise, changing everyone's daily routine. City dwellers no longer spent their free time outside, going to cafes and malls; more people were at home, reading books. That attracted the attention of startups that rushed to develop new apps for book lovers. \n",
    "\n",
    "You've been given a database of one of the services competing in this market. It contains data on books, publishers, authors, and customer ratings and reviews of books. This information will be used to generate a value proposition for a new product."
   ]
  },
  {
   "cell_type": "markdown",
   "metadata": {},
   "source": [
    "### The Goal\n",
    "\n",
    "The project goal is to generate a value proposition for a new product."
   ]
  },
  {
   "cell_type": "markdown",
   "metadata": {},
   "source": [
    "### Task\n",
    "\n",
    "- Find the number of books released after January 1, 2000.\n",
    "- Find the number of user reviews and the average rating for each book.\n",
    "- Identify the publisher that has released the greatest number of books with more than 50 pages (this will help you exclude brochures and similar publications from your analysis).\n",
    "- Identify the author with the highest average book rating (look only at books with at least 50 ratings).\n",
    "- Find the average number of text reviews among users who rated more than 50 books."
   ]
  },
  {
   "cell_type": "code",
   "execution_count": 1,
   "metadata": {},
   "outputs": [],
   "source": [
    "# import libraries\n",
    "import pandas as pd\n",
    "from sqlalchemy import create_engine\n",
    "\n",
    "\n",
    "db_config = {'user': 'praktikum_student',         # user name\n",
    "             'pwd': 'Sdf4$2;d-d30pp', # password\n",
    "             'host': 'rc1b-wcoijxj3yxfsf3fs.mdb.yandexcloud.net',\n",
    "             'port': 6432,              # connection port\n",
    "             'db': 'data-analyst-final-project-db'}          # the name of the data base\n",
    "\n",
    "connection_string = 'postgresql://{}:{}@{}:{}/{}'.format(db_config['user'],\n",
    "                                                                     db_config['pwd'],\n",
    "                                                                       db_config['host'],\n",
    "                                                                       db_config['port'],\n",
    "                                                                       db_config['db'])\n",
    "\n",
    "engine = create_engine(connection_string, connect_args={'sslmode':'require'})"
   ]
  },
  {
   "cell_type": "markdown",
   "metadata": {},
   "source": [
    "## Study the tables (print the first rows)."
   ]
  },
  {
   "cell_type": "code",
   "execution_count": 2,
   "metadata": {
    "scrolled": true
   },
   "outputs": [
    {
     "data": {
      "text/html": [
       "<div>\n",
       "<style scoped>\n",
       "    .dataframe tbody tr th:only-of-type {\n",
       "        vertical-align: middle;\n",
       "    }\n",
       "\n",
       "    .dataframe tbody tr th {\n",
       "        vertical-align: top;\n",
       "    }\n",
       "\n",
       "    .dataframe thead th {\n",
       "        text-align: right;\n",
       "    }\n",
       "</style>\n",
       "<table border=\"1\" class=\"dataframe\">\n",
       "  <thead>\n",
       "    <tr style=\"text-align: right;\">\n",
       "      <th></th>\n",
       "      <th>book_id</th>\n",
       "      <th>author_id</th>\n",
       "      <th>title</th>\n",
       "      <th>num_pages</th>\n",
       "      <th>publication_date</th>\n",
       "      <th>publisher_id</th>\n",
       "    </tr>\n",
       "  </thead>\n",
       "  <tbody>\n",
       "    <tr>\n",
       "      <td>0</td>\n",
       "      <td>1</td>\n",
       "      <td>546</td>\n",
       "      <td>'Salem's Lot</td>\n",
       "      <td>594</td>\n",
       "      <td>2005-11-01</td>\n",
       "      <td>93</td>\n",
       "    </tr>\n",
       "    <tr>\n",
       "      <td>1</td>\n",
       "      <td>2</td>\n",
       "      <td>465</td>\n",
       "      <td>1 000 Places to See Before You Die</td>\n",
       "      <td>992</td>\n",
       "      <td>2003-05-22</td>\n",
       "      <td>336</td>\n",
       "    </tr>\n",
       "    <tr>\n",
       "      <td>2</td>\n",
       "      <td>3</td>\n",
       "      <td>407</td>\n",
       "      <td>13 Little Blue Envelopes (Little Blue Envelope...</td>\n",
       "      <td>322</td>\n",
       "      <td>2010-12-21</td>\n",
       "      <td>135</td>\n",
       "    </tr>\n",
       "    <tr>\n",
       "      <td>3</td>\n",
       "      <td>4</td>\n",
       "      <td>82</td>\n",
       "      <td>1491: New Revelations of the Americas Before C...</td>\n",
       "      <td>541</td>\n",
       "      <td>2006-10-10</td>\n",
       "      <td>309</td>\n",
       "    </tr>\n",
       "    <tr>\n",
       "      <td>4</td>\n",
       "      <td>5</td>\n",
       "      <td>125</td>\n",
       "      <td>1776</td>\n",
       "      <td>386</td>\n",
       "      <td>2006-07-04</td>\n",
       "      <td>268</td>\n",
       "    </tr>\n",
       "  </tbody>\n",
       "</table>\n",
       "</div>"
      ],
      "text/plain": [
       "   book_id  author_id                                              title  \\\n",
       "0        1        546                                       'Salem's Lot   \n",
       "1        2        465                 1 000 Places to See Before You Die   \n",
       "2        3        407  13 Little Blue Envelopes (Little Blue Envelope...   \n",
       "3        4         82  1491: New Revelations of the Americas Before C...   \n",
       "4        5        125                                               1776   \n",
       "\n",
       "   num_pages publication_date  publisher_id  \n",
       "0        594       2005-11-01            93  \n",
       "1        992       2003-05-22           336  \n",
       "2        322       2010-12-21           135  \n",
       "3        541       2006-10-10           309  \n",
       "4        386       2006-07-04           268  "
      ]
     },
     "execution_count": 2,
     "metadata": {},
     "output_type": "execute_result"
    }
   ],
   "source": [
    "# study table \"books\" (print the first rows)\n",
    "#books = pd.io.sql.read_sql(\"SELECT * FROM books LIMIT 10\", con = engine)\n",
    "books = pd.io.sql.read_sql(\"SELECT * FROM books\", con = engine)\n",
    "books.head()"
   ]
  },
  {
   "cell_type": "code",
   "execution_count": 3,
   "metadata": {},
   "outputs": [
    {
     "data": {
      "text/html": [
       "<div>\n",
       "<style scoped>\n",
       "    .dataframe tbody tr th:only-of-type {\n",
       "        vertical-align: middle;\n",
       "    }\n",
       "\n",
       "    .dataframe tbody tr th {\n",
       "        vertical-align: top;\n",
       "    }\n",
       "\n",
       "    .dataframe thead th {\n",
       "        text-align: right;\n",
       "    }\n",
       "</style>\n",
       "<table border=\"1\" class=\"dataframe\">\n",
       "  <thead>\n",
       "    <tr style=\"text-align: right;\">\n",
       "      <th></th>\n",
       "      <th>author_id</th>\n",
       "      <th>author</th>\n",
       "    </tr>\n",
       "  </thead>\n",
       "  <tbody>\n",
       "    <tr>\n",
       "      <td>0</td>\n",
       "      <td>1</td>\n",
       "      <td>A.S. Byatt</td>\n",
       "    </tr>\n",
       "    <tr>\n",
       "      <td>1</td>\n",
       "      <td>2</td>\n",
       "      <td>Aesop/Laura Harris/Laura Gibbs</td>\n",
       "    </tr>\n",
       "    <tr>\n",
       "      <td>2</td>\n",
       "      <td>3</td>\n",
       "      <td>Agatha Christie</td>\n",
       "    </tr>\n",
       "    <tr>\n",
       "      <td>3</td>\n",
       "      <td>4</td>\n",
       "      <td>Alan Brennert</td>\n",
       "    </tr>\n",
       "    <tr>\n",
       "      <td>4</td>\n",
       "      <td>5</td>\n",
       "      <td>Alan Moore/David   Lloyd</td>\n",
       "    </tr>\n",
       "  </tbody>\n",
       "</table>\n",
       "</div>"
      ],
      "text/plain": [
       "   author_id                          author\n",
       "0          1                      A.S. Byatt\n",
       "1          2  Aesop/Laura Harris/Laura Gibbs\n",
       "2          3                 Agatha Christie\n",
       "3          4                   Alan Brennert\n",
       "4          5        Alan Moore/David   Lloyd"
      ]
     },
     "execution_count": 3,
     "metadata": {},
     "output_type": "execute_result"
    }
   ],
   "source": [
    "# study table \"authors\" (print the first rows)\n",
    "authors = pd.io.sql.read_sql(\"SELECT * FROM authors\", con = engine)\n",
    "authors.head()"
   ]
  },
  {
   "cell_type": "code",
   "execution_count": 4,
   "metadata": {},
   "outputs": [
    {
     "data": {
      "text/html": [
       "<div>\n",
       "<style scoped>\n",
       "    .dataframe tbody tr th:only-of-type {\n",
       "        vertical-align: middle;\n",
       "    }\n",
       "\n",
       "    .dataframe tbody tr th {\n",
       "        vertical-align: top;\n",
       "    }\n",
       "\n",
       "    .dataframe thead th {\n",
       "        text-align: right;\n",
       "    }\n",
       "</style>\n",
       "<table border=\"1\" class=\"dataframe\">\n",
       "  <thead>\n",
       "    <tr style=\"text-align: right;\">\n",
       "      <th></th>\n",
       "      <th>rating_id</th>\n",
       "      <th>book_id</th>\n",
       "      <th>username</th>\n",
       "      <th>rating</th>\n",
       "    </tr>\n",
       "  </thead>\n",
       "  <tbody>\n",
       "    <tr>\n",
       "      <td>0</td>\n",
       "      <td>1</td>\n",
       "      <td>1</td>\n",
       "      <td>ryanfranco</td>\n",
       "      <td>4</td>\n",
       "    </tr>\n",
       "    <tr>\n",
       "      <td>1</td>\n",
       "      <td>2</td>\n",
       "      <td>1</td>\n",
       "      <td>grantpatricia</td>\n",
       "      <td>2</td>\n",
       "    </tr>\n",
       "    <tr>\n",
       "      <td>2</td>\n",
       "      <td>3</td>\n",
       "      <td>1</td>\n",
       "      <td>brandtandrea</td>\n",
       "      <td>5</td>\n",
       "    </tr>\n",
       "    <tr>\n",
       "      <td>3</td>\n",
       "      <td>4</td>\n",
       "      <td>2</td>\n",
       "      <td>lorichen</td>\n",
       "      <td>3</td>\n",
       "    </tr>\n",
       "    <tr>\n",
       "      <td>4</td>\n",
       "      <td>5</td>\n",
       "      <td>2</td>\n",
       "      <td>mariokeller</td>\n",
       "      <td>2</td>\n",
       "    </tr>\n",
       "  </tbody>\n",
       "</table>\n",
       "</div>"
      ],
      "text/plain": [
       "   rating_id  book_id       username  rating\n",
       "0          1        1     ryanfranco       4\n",
       "1          2        1  grantpatricia       2\n",
       "2          3        1   brandtandrea       5\n",
       "3          4        2       lorichen       3\n",
       "4          5        2    mariokeller       2"
      ]
     },
     "execution_count": 4,
     "metadata": {},
     "output_type": "execute_result"
    }
   ],
   "source": [
    "# study table \"ratings\" (print the first rows)\n",
    "ratings = pd.io.sql.read_sql(\"SELECT * FROM ratings\", con = engine)\n",
    "ratings.head()"
   ]
  },
  {
   "cell_type": "code",
   "execution_count": 5,
   "metadata": {},
   "outputs": [
    {
     "data": {
      "text/html": [
       "<div>\n",
       "<style scoped>\n",
       "    .dataframe tbody tr th:only-of-type {\n",
       "        vertical-align: middle;\n",
       "    }\n",
       "\n",
       "    .dataframe tbody tr th {\n",
       "        vertical-align: top;\n",
       "    }\n",
       "\n",
       "    .dataframe thead th {\n",
       "        text-align: right;\n",
       "    }\n",
       "</style>\n",
       "<table border=\"1\" class=\"dataframe\">\n",
       "  <thead>\n",
       "    <tr style=\"text-align: right;\">\n",
       "      <th></th>\n",
       "      <th>review_id</th>\n",
       "      <th>book_id</th>\n",
       "      <th>username</th>\n",
       "      <th>text</th>\n",
       "    </tr>\n",
       "  </thead>\n",
       "  <tbody>\n",
       "    <tr>\n",
       "      <td>0</td>\n",
       "      <td>1</td>\n",
       "      <td>1</td>\n",
       "      <td>brandtandrea</td>\n",
       "      <td>Mention society tell send professor analysis. ...</td>\n",
       "    </tr>\n",
       "    <tr>\n",
       "      <td>1</td>\n",
       "      <td>2</td>\n",
       "      <td>1</td>\n",
       "      <td>ryanfranco</td>\n",
       "      <td>Foot glass pretty audience hit themselves. Amo...</td>\n",
       "    </tr>\n",
       "    <tr>\n",
       "      <td>2</td>\n",
       "      <td>3</td>\n",
       "      <td>2</td>\n",
       "      <td>lorichen</td>\n",
       "      <td>Listen treat keep worry. Miss husband tax but ...</td>\n",
       "    </tr>\n",
       "    <tr>\n",
       "      <td>3</td>\n",
       "      <td>4</td>\n",
       "      <td>3</td>\n",
       "      <td>johnsonamanda</td>\n",
       "      <td>Finally month interesting blue could nature cu...</td>\n",
       "    </tr>\n",
       "    <tr>\n",
       "      <td>4</td>\n",
       "      <td>5</td>\n",
       "      <td>3</td>\n",
       "      <td>scotttamara</td>\n",
       "      <td>Nation purpose heavy give wait song will. List...</td>\n",
       "    </tr>\n",
       "  </tbody>\n",
       "</table>\n",
       "</div>"
      ],
      "text/plain": [
       "   review_id  book_id       username  \\\n",
       "0          1        1   brandtandrea   \n",
       "1          2        1     ryanfranco   \n",
       "2          3        2       lorichen   \n",
       "3          4        3  johnsonamanda   \n",
       "4          5        3    scotttamara   \n",
       "\n",
       "                                                text  \n",
       "0  Mention society tell send professor analysis. ...  \n",
       "1  Foot glass pretty audience hit themselves. Amo...  \n",
       "2  Listen treat keep worry. Miss husband tax but ...  \n",
       "3  Finally month interesting blue could nature cu...  \n",
       "4  Nation purpose heavy give wait song will. List...  "
      ]
     },
     "execution_count": 5,
     "metadata": {},
     "output_type": "execute_result"
    }
   ],
   "source": [
    "# study table \"reviews\" (print the first rows)\n",
    "reviews = pd.io.sql.read_sql(\"SELECT * FROM reviews\", con = engine)\n",
    "reviews.head()"
   ]
  },
  {
   "cell_type": "code",
   "execution_count": 6,
   "metadata": {},
   "outputs": [
    {
     "data": {
      "text/html": [
       "<div>\n",
       "<style scoped>\n",
       "    .dataframe tbody tr th:only-of-type {\n",
       "        vertical-align: middle;\n",
       "    }\n",
       "\n",
       "    .dataframe tbody tr th {\n",
       "        vertical-align: top;\n",
       "    }\n",
       "\n",
       "    .dataframe thead th {\n",
       "        text-align: right;\n",
       "    }\n",
       "</style>\n",
       "<table border=\"1\" class=\"dataframe\">\n",
       "  <thead>\n",
       "    <tr style=\"text-align: right;\">\n",
       "      <th></th>\n",
       "      <th>publisher_id</th>\n",
       "      <th>publisher</th>\n",
       "    </tr>\n",
       "  </thead>\n",
       "  <tbody>\n",
       "    <tr>\n",
       "      <td>0</td>\n",
       "      <td>1</td>\n",
       "      <td>Ace</td>\n",
       "    </tr>\n",
       "    <tr>\n",
       "      <td>1</td>\n",
       "      <td>2</td>\n",
       "      <td>Ace Book</td>\n",
       "    </tr>\n",
       "    <tr>\n",
       "      <td>2</td>\n",
       "      <td>3</td>\n",
       "      <td>Ace Books</td>\n",
       "    </tr>\n",
       "    <tr>\n",
       "      <td>3</td>\n",
       "      <td>4</td>\n",
       "      <td>Ace Hardcover</td>\n",
       "    </tr>\n",
       "    <tr>\n",
       "      <td>4</td>\n",
       "      <td>5</td>\n",
       "      <td>Addison Wesley Publishing Company</td>\n",
       "    </tr>\n",
       "  </tbody>\n",
       "</table>\n",
       "</div>"
      ],
      "text/plain": [
       "   publisher_id                          publisher\n",
       "0             1                                Ace\n",
       "1             2                           Ace Book\n",
       "2             3                          Ace Books\n",
       "3             4                      Ace Hardcover\n",
       "4             5  Addison Wesley Publishing Company"
      ]
     },
     "execution_count": 6,
     "metadata": {},
     "output_type": "execute_result"
    }
   ],
   "source": [
    "# # study table \"publishers\" (print the first rows)\n",
    "publishers = pd.io.sql.read_sql(\"SELECT * FROM publishers\", con = engine)\n",
    "publishers.head()"
   ]
  },
  {
   "cell_type": "markdown",
   "metadata": {},
   "source": [
    "## Make an SQL query for each of the tasks."
   ]
  },
  {
   "cell_type": "code",
   "execution_count": 7,
   "metadata": {},
   "outputs": [],
   "source": [
    "# Find the number of books released after January 1, 2000.\n",
    "query1 = \"SELECT COUNT(book_id) FROM books WHERE publication_date::date > '2000-01-01'::date\""
   ]
  },
  {
   "cell_type": "code",
   "execution_count": 8,
   "metadata": {},
   "outputs": [],
   "source": [
    "# Find the number of user reviews and the average rating for each book.\n",
    "query2 = '''\n",
    "SELECT reviews.book_id, COUNT(review_id) AS \"Number of reviews\", AVG(rating) AS \"Average rating\" \n",
    "FROM ratings \n",
    "INNER JOIN reviews ON ratings.book_id = reviews.book_id GROUP BY reviews.book_id\n",
    "'''"
   ]
  },
  {
   "cell_type": "code",
   "execution_count": 9,
   "metadata": {},
   "outputs": [],
   "source": [
    "# Identify the publisher that has released the greatest number of books with more than 50 pages.\n",
    "query3 = '''\n",
    "SELECT publisher_id FROM (\n",
    "SELECT COUNT(book_id) AS \"bigbooks\", publisher_id FROM books WHERE num_pages > 50 GROUP BY publisher_id\n",
    ") AS temp ORDER BY bigbooks DESC LIMIT 1\n",
    "'''"
   ]
  },
  {
   "cell_type": "code",
   "execution_count": 10,
   "metadata": {},
   "outputs": [],
   "source": [
    "# Identify the author with the highest average book rating (look only at books with at least 50 ratings).\n",
    "query4 = '''\n",
    "SELECT authors.author --, books.author_id, books.book_id, COUNT(ratings.rating_id), AVG(ratings.rating) as Average \n",
    "FROM books \n",
    "INNER JOIN ratings ON books.book_id = ratings.book_id \n",
    "INNER JOIN authors ON books.author_id = authors.author_id \n",
    "GROUP BY books.book_id, authors.author\n",
    "HAVING COUNT(ratings.rating_id) > 50 \n",
    "ORDER BY AVG(ratings.rating) DESC \n",
    "LIMIT 1\n",
    "'''"
   ]
  },
  {
   "cell_type": "code",
   "execution_count": 11,
   "metadata": {},
   "outputs": [],
   "source": [
    "# Find the average number of text reviews among users who rated more than 50 books.\n",
    "query5 = '''\n",
    "SELECT AVG(temp.review_count) AS \"Average review count\" FROM (\n",
    "    SELECT COUNT(review_id) AS review_count, username FROM reviews \n",
    "    WHERE username IN (\n",
    "        SELECT username \n",
    "        FROM ratings \n",
    "        GROUP BY username \n",
    "        HAVING COUNT(rating_id) > 50\n",
    "    ) GROUP BY username\n",
    ") AS temp\n",
    "'''"
   ]
  },
  {
   "cell_type": "markdown",
   "metadata": {},
   "source": [
    "## Output the results of each query."
   ]
  },
  {
   "cell_type": "code",
   "execution_count": 12,
   "metadata": {},
   "outputs": [
    {
     "data": {
      "text/html": [
       "<div>\n",
       "<style scoped>\n",
       "    .dataframe tbody tr th:only-of-type {\n",
       "        vertical-align: middle;\n",
       "    }\n",
       "\n",
       "    .dataframe tbody tr th {\n",
       "        vertical-align: top;\n",
       "    }\n",
       "\n",
       "    .dataframe thead th {\n",
       "        text-align: right;\n",
       "    }\n",
       "</style>\n",
       "<table border=\"1\" class=\"dataframe\">\n",
       "  <thead>\n",
       "    <tr style=\"text-align: right;\">\n",
       "      <th></th>\n",
       "      <th>count</th>\n",
       "    </tr>\n",
       "  </thead>\n",
       "  <tbody>\n",
       "    <tr>\n",
       "      <td>0</td>\n",
       "      <td>819</td>\n",
       "    </tr>\n",
       "  </tbody>\n",
       "</table>\n",
       "</div>"
      ],
      "text/plain": [
       "   count\n",
       "0    819"
      ]
     },
     "execution_count": 12,
     "metadata": {},
     "output_type": "execute_result"
    }
   ],
   "source": [
    "# Output the results for task: Find the number of books released after January 1, 2000.\n",
    "pd.io.sql.read_sql(query1, con = engine)"
   ]
  },
  {
   "cell_type": "markdown",
   "metadata": {},
   "source": [
    "The number of books released after January 1, 2000 is 819 of 1000."
   ]
  },
  {
   "cell_type": "code",
   "execution_count": 13,
   "metadata": {},
   "outputs": [
    {
     "data": {
      "text/html": [
       "<div>\n",
       "<style scoped>\n",
       "    .dataframe tbody tr th:only-of-type {\n",
       "        vertical-align: middle;\n",
       "    }\n",
       "\n",
       "    .dataframe tbody tr th {\n",
       "        vertical-align: top;\n",
       "    }\n",
       "\n",
       "    .dataframe thead th {\n",
       "        text-align: right;\n",
       "    }\n",
       "</style>\n",
       "<table border=\"1\" class=\"dataframe\">\n",
       "  <thead>\n",
       "    <tr style=\"text-align: right;\">\n",
       "      <th></th>\n",
       "      <th>book_id</th>\n",
       "      <th>Number of reviews</th>\n",
       "      <th>Average rating</th>\n",
       "    </tr>\n",
       "  </thead>\n",
       "  <tbody>\n",
       "    <tr>\n",
       "      <td>count</td>\n",
       "      <td>994.000000</td>\n",
       "      <td>994.00000</td>\n",
       "      <td>994.000000</td>\n",
       "    </tr>\n",
       "    <tr>\n",
       "      <td>mean</td>\n",
       "      <td>501.144869</td>\n",
       "      <td>26.32495</td>\n",
       "      <td>3.898699</td>\n",
       "    </tr>\n",
       "    <tr>\n",
       "      <td>std</td>\n",
       "      <td>288.845619</td>\n",
       "      <td>68.48706</td>\n",
       "      <td>0.562190</td>\n",
       "    </tr>\n",
       "    <tr>\n",
       "      <td>min</td>\n",
       "      <td>1.000000</td>\n",
       "      <td>2.00000</td>\n",
       "      <td>1.500000</td>\n",
       "    </tr>\n",
       "    <tr>\n",
       "      <td>25%</td>\n",
       "      <td>252.250000</td>\n",
       "      <td>4.00000</td>\n",
       "      <td>3.500000</td>\n",
       "    </tr>\n",
       "    <tr>\n",
       "      <td>50%</td>\n",
       "      <td>501.500000</td>\n",
       "      <td>9.00000</td>\n",
       "      <td>4.000000</td>\n",
       "    </tr>\n",
       "    <tr>\n",
       "      <td>75%</td>\n",
       "      <td>750.750000</td>\n",
       "      <td>18.00000</td>\n",
       "      <td>4.333333</td>\n",
       "    </tr>\n",
       "    <tr>\n",
       "      <td>max</td>\n",
       "      <td>1000.000000</td>\n",
       "      <td>1120.00000</td>\n",
       "      <td>5.000000</td>\n",
       "    </tr>\n",
       "  </tbody>\n",
       "</table>\n",
       "</div>"
      ],
      "text/plain": [
       "           book_id  Number of reviews  Average rating\n",
       "count   994.000000          994.00000      994.000000\n",
       "mean    501.144869           26.32495        3.898699\n",
       "std     288.845619           68.48706        0.562190\n",
       "min       1.000000            2.00000        1.500000\n",
       "25%     252.250000            4.00000        3.500000\n",
       "50%     501.500000            9.00000        4.000000\n",
       "75%     750.750000           18.00000        4.333333\n",
       "max    1000.000000         1120.00000        5.000000"
      ]
     },
     "execution_count": 13,
     "metadata": {},
     "output_type": "execute_result"
    }
   ],
   "source": [
    "# Output the results for task: Find the number of user reviews and the average rating for each book.\n",
    "aa = pd.io.sql.read_sql(query2, con = engine).sort_values(by='Average rating', ascending=False)\n",
    "aa.describe()"
   ]
  },
  {
   "cell_type": "markdown",
   "metadata": {},
   "source": [
    "We find the number of user reviews and the average rating for each book."
   ]
  },
  {
   "cell_type": "code",
   "execution_count": 14,
   "metadata": {},
   "outputs": [
    {
     "data": {
      "text/html": [
       "<div>\n",
       "<style scoped>\n",
       "    .dataframe tbody tr th:only-of-type {\n",
       "        vertical-align: middle;\n",
       "    }\n",
       "\n",
       "    .dataframe tbody tr th {\n",
       "        vertical-align: top;\n",
       "    }\n",
       "\n",
       "    .dataframe thead th {\n",
       "        text-align: right;\n",
       "    }\n",
       "</style>\n",
       "<table border=\"1\" class=\"dataframe\">\n",
       "  <thead>\n",
       "    <tr style=\"text-align: right;\">\n",
       "      <th></th>\n",
       "      <th>publisher_id</th>\n",
       "    </tr>\n",
       "  </thead>\n",
       "  <tbody>\n",
       "    <tr>\n",
       "      <td>0</td>\n",
       "      <td>212</td>\n",
       "    </tr>\n",
       "  </tbody>\n",
       "</table>\n",
       "</div>"
      ],
      "text/plain": [
       "   publisher_id\n",
       "0           212"
      ]
     },
     "execution_count": 14,
     "metadata": {},
     "output_type": "execute_result"
    }
   ],
   "source": [
    "# Output the results for task: Identify the publisher that has released the greatest number of books with more than 50 pages. \n",
    "pd.io.sql.read_sql(query3, con = engine)"
   ]
  },
  {
   "cell_type": "code",
   "execution_count": 15,
   "metadata": {},
   "outputs": [
    {
     "data": {
      "text/html": [
       "<div>\n",
       "<style scoped>\n",
       "    .dataframe tbody tr th:only-of-type {\n",
       "        vertical-align: middle;\n",
       "    }\n",
       "\n",
       "    .dataframe tbody tr th {\n",
       "        vertical-align: top;\n",
       "    }\n",
       "\n",
       "    .dataframe thead th {\n",
       "        text-align: right;\n",
       "    }\n",
       "</style>\n",
       "<table border=\"1\" class=\"dataframe\">\n",
       "  <thead>\n",
       "    <tr style=\"text-align: right;\">\n",
       "      <th></th>\n",
       "      <th>publisher_id</th>\n",
       "      <th>publisher</th>\n",
       "    </tr>\n",
       "  </thead>\n",
       "  <tbody>\n",
       "    <tr>\n",
       "      <td>211</td>\n",
       "      <td>212</td>\n",
       "      <td>Penguin Books</td>\n",
       "    </tr>\n",
       "  </tbody>\n",
       "</table>\n",
       "</div>"
      ],
      "text/plain": [
       "     publisher_id      publisher\n",
       "211           212  Penguin Books"
      ]
     },
     "execution_count": 15,
     "metadata": {},
     "output_type": "execute_result"
    }
   ],
   "source": [
    "publishers.query('publisher_id == 212')"
   ]
  },
  {
   "cell_type": "markdown",
   "metadata": {},
   "source": [
    "We identify the publisher that has released the greatest number of books with more than 50 pages - 'publisher_id' = 212, that corresponds to Penguin Books."
   ]
  },
  {
   "cell_type": "code",
   "execution_count": 16,
   "metadata": {},
   "outputs": [
    {
     "data": {
      "text/html": [
       "<div>\n",
       "<style scoped>\n",
       "    .dataframe tbody tr th:only-of-type {\n",
       "        vertical-align: middle;\n",
       "    }\n",
       "\n",
       "    .dataframe tbody tr th {\n",
       "        vertical-align: top;\n",
       "    }\n",
       "\n",
       "    .dataframe thead th {\n",
       "        text-align: right;\n",
       "    }\n",
       "</style>\n",
       "<table border=\"1\" class=\"dataframe\">\n",
       "  <thead>\n",
       "    <tr style=\"text-align: right;\">\n",
       "      <th></th>\n",
       "      <th>author</th>\n",
       "    </tr>\n",
       "  </thead>\n",
       "  <tbody>\n",
       "    <tr>\n",
       "      <td>0</td>\n",
       "      <td>J.K. Rowling/Mary GrandPré</td>\n",
       "    </tr>\n",
       "  </tbody>\n",
       "</table>\n",
       "</div>"
      ],
      "text/plain": [
       "                       author\n",
       "0  J.K. Rowling/Mary GrandPré"
      ]
     },
     "execution_count": 16,
     "metadata": {},
     "output_type": "execute_result"
    }
   ],
   "source": [
    "# Output the results for task: Identify the author with the highest average book rating (look only at books with \n",
    "# at least 50 ratings).\n",
    "pd.io.sql.read_sql(query4, con = engine)"
   ]
  },
  {
   "cell_type": "markdown",
   "metadata": {},
   "source": [
    "We identify the author with the highest average book rating (only at books with at least 50 ratings). It's J.K. Rowling/Mary GrandPré."
   ]
  },
  {
   "cell_type": "code",
   "execution_count": 17,
   "metadata": {},
   "outputs": [
    {
     "data": {
      "text/html": [
       "<div>\n",
       "<style scoped>\n",
       "    .dataframe tbody tr th:only-of-type {\n",
       "        vertical-align: middle;\n",
       "    }\n",
       "\n",
       "    .dataframe tbody tr th {\n",
       "        vertical-align: top;\n",
       "    }\n",
       "\n",
       "    .dataframe thead th {\n",
       "        text-align: right;\n",
       "    }\n",
       "</style>\n",
       "<table border=\"1\" class=\"dataframe\">\n",
       "  <thead>\n",
       "    <tr style=\"text-align: right;\">\n",
       "      <th></th>\n",
       "      <th>Average review count</th>\n",
       "    </tr>\n",
       "  </thead>\n",
       "  <tbody>\n",
       "    <tr>\n",
       "      <td>0</td>\n",
       "      <td>24.333333</td>\n",
       "    </tr>\n",
       "  </tbody>\n",
       "</table>\n",
       "</div>"
      ],
      "text/plain": [
       "   Average review count\n",
       "0             24.333333"
      ]
     },
     "execution_count": 17,
     "metadata": {},
     "output_type": "execute_result"
    }
   ],
   "source": [
    "# Output the results for task: Find the average number of text reviews among users who rated more than 50 books.\n",
    "pd.io.sql.read_sql(query5, con = engine)"
   ]
  },
  {
   "cell_type": "markdown",
   "metadata": {},
   "source": [
    "We find the average number of text reviews among users who rated more than 50 books - 24 reviews."
   ]
  },
  {
   "cell_type": "markdown",
   "metadata": {},
   "source": [
    "## Conclusions"
   ]
  },
  {
   "cell_type": "markdown",
   "metadata": {},
   "source": [
    "We would recommend that new product focus on books, released after year 2000, with a reviews from users who rated more than 50 books, and high ratings (>=4), paying special attention on books, published by Penguin Books. No need to say that J.K. Rowling is a must for every books app."
   ]
  }
 ],
 "metadata": {
  "ExecuteTimeLog": [
   {
    "duration": 634,
    "start_time": "2021-08-14T15:11:13.765Z"
   },
   {
    "duration": 597,
    "start_time": "2021-08-14T15:12:10.725Z"
   },
   {
    "duration": 78,
    "start_time": "2021-08-14T15:12:29.553Z"
   },
   {
    "duration": 73,
    "start_time": "2021-08-14T15:13:02.773Z"
   },
   {
    "duration": 249,
    "start_time": "2021-08-14T16:10:28.624Z"
   },
   {
    "duration": 594,
    "start_time": "2021-08-14T16:10:43.787Z"
   },
   {
    "duration": 269,
    "start_time": "2021-08-14T16:10:44.383Z"
   },
   {
    "duration": 2,
    "start_time": "2021-08-14T16:10:44.654Z"
   },
   {
    "duration": 78,
    "start_time": "2021-08-14T16:10:44.657Z"
   },
   {
    "duration": 391,
    "start_time": "2021-08-14T16:10:58.643Z"
   },
   {
    "duration": 3,
    "start_time": "2021-08-14T16:11:30.219Z"
   },
   {
    "duration": 627,
    "start_time": "2021-08-14T16:11:41.064Z"
   },
   {
    "duration": 269,
    "start_time": "2021-08-14T16:11:41.693Z"
   },
   {
    "duration": 2,
    "start_time": "2021-08-14T16:11:41.963Z"
   },
   {
    "duration": 98,
    "start_time": "2021-08-14T16:11:41.967Z"
   },
   {
    "duration": 3,
    "start_time": "2021-08-14T16:12:38.527Z"
   },
   {
    "duration": 3,
    "start_time": "2021-08-14T16:12:44.227Z"
   },
   {
    "duration": 633,
    "start_time": "2021-08-14T16:12:54.357Z"
   },
   {
    "duration": 288,
    "start_time": "2021-08-14T16:12:54.992Z"
   },
   {
    "duration": 2,
    "start_time": "2021-08-14T16:12:55.282Z"
   },
   {
    "duration": 392,
    "start_time": "2021-08-14T16:12:55.286Z"
   },
   {
    "duration": 617,
    "start_time": "2021-08-14T16:13:42.386Z"
   },
   {
    "duration": 251,
    "start_time": "2021-08-14T16:13:43.005Z"
   },
   {
    "duration": 2,
    "start_time": "2021-08-14T16:13:43.258Z"
   },
   {
    "duration": 107,
    "start_time": "2021-08-14T16:13:43.262Z"
   },
   {
    "duration": 3,
    "start_time": "2021-08-14T16:15:19.206Z"
   },
   {
    "duration": 639,
    "start_time": "2021-08-14T16:15:29.446Z"
   },
   {
    "duration": 256,
    "start_time": "2021-08-14T16:15:30.087Z"
   },
   {
    "duration": 2,
    "start_time": "2021-08-14T16:15:30.348Z"
   },
   {
    "duration": 392,
    "start_time": "2021-08-14T16:15:30.352Z"
   },
   {
    "duration": 665,
    "start_time": "2021-08-14T16:16:39.520Z"
   },
   {
    "duration": 247,
    "start_time": "2021-08-14T16:16:40.187Z"
   },
   {
    "duration": 2,
    "start_time": "2021-08-14T16:16:40.436Z"
   },
   {
    "duration": 382,
    "start_time": "2021-08-14T16:16:40.440Z"
   },
   {
    "duration": 653,
    "start_time": "2021-08-14T16:17:29.234Z"
   },
   {
    "duration": 270,
    "start_time": "2021-08-14T16:17:29.889Z"
   },
   {
    "duration": 2,
    "start_time": "2021-08-14T16:17:30.161Z"
   },
   {
    "duration": 423,
    "start_time": "2021-08-14T16:17:30.165Z"
   },
   {
    "duration": 692,
    "start_time": "2021-08-14T16:18:19.286Z"
   },
   {
    "duration": 267,
    "start_time": "2021-08-14T16:18:19.980Z"
   },
   {
    "duration": 2,
    "start_time": "2021-08-14T16:18:20.249Z"
   },
   {
    "duration": 411,
    "start_time": "2021-08-14T16:18:20.253Z"
   },
   {
    "duration": 622,
    "start_time": "2021-08-14T16:18:49.762Z"
   },
   {
    "duration": 254,
    "start_time": "2021-08-14T16:18:50.386Z"
   },
   {
    "duration": 2,
    "start_time": "2021-08-14T16:18:50.642Z"
   },
   {
    "duration": 397,
    "start_time": "2021-08-14T16:18:50.646Z"
   },
   {
    "duration": 596,
    "start_time": "2021-08-14T16:19:44.488Z"
   },
   {
    "duration": 257,
    "start_time": "2021-08-14T16:19:45.085Z"
   },
   {
    "duration": 3,
    "start_time": "2021-08-14T16:19:45.344Z"
   },
   {
    "duration": 387,
    "start_time": "2021-08-14T16:19:45.349Z"
   },
   {
    "duration": 721,
    "start_time": "2021-08-14T16:20:02.141Z"
   },
   {
    "duration": 269,
    "start_time": "2021-08-14T16:20:02.864Z"
   },
   {
    "duration": 3,
    "start_time": "2021-08-14T16:20:03.135Z"
   },
   {
    "duration": 478,
    "start_time": "2021-08-14T16:20:03.139Z"
   },
   {
    "duration": 655,
    "start_time": "2021-08-14T16:20:27.934Z"
   },
   {
    "duration": 249,
    "start_time": "2021-08-14T16:20:28.591Z"
   },
   {
    "duration": 3,
    "start_time": "2021-08-14T16:20:28.842Z"
   },
   {
    "duration": 76,
    "start_time": "2021-08-14T16:20:28.847Z"
   },
   {
    "duration": 593,
    "start_time": "2021-08-14T16:21:42.594Z"
   },
   {
    "duration": 251,
    "start_time": "2021-08-14T16:21:43.189Z"
   },
   {
    "duration": 3,
    "start_time": "2021-08-14T16:21:43.442Z"
   },
   {
    "duration": 75,
    "start_time": "2021-08-14T16:21:43.446Z"
   },
   {
    "duration": 592,
    "start_time": "2021-08-14T16:22:10.674Z"
   },
   {
    "duration": 269,
    "start_time": "2021-08-14T16:22:11.268Z"
   },
   {
    "duration": 2,
    "start_time": "2021-08-14T16:22:11.539Z"
   },
   {
    "duration": 81,
    "start_time": "2021-08-14T16:22:11.543Z"
   },
   {
    "duration": 619,
    "start_time": "2021-08-14T16:23:15.801Z"
   },
   {
    "duration": 268,
    "start_time": "2021-08-14T16:23:16.421Z"
   },
   {
    "duration": 3,
    "start_time": "2021-08-14T16:23:16.691Z"
   },
   {
    "duration": 79,
    "start_time": "2021-08-14T16:23:16.695Z"
   },
   {
    "duration": 627,
    "start_time": "2021-08-14T16:24:27.751Z"
   },
   {
    "duration": 246,
    "start_time": "2021-08-14T16:24:28.380Z"
   },
   {
    "duration": 3,
    "start_time": "2021-08-14T16:24:28.628Z"
   },
   {
    "duration": 76,
    "start_time": "2021-08-14T16:24:28.632Z"
   },
   {
    "duration": 668,
    "start_time": "2021-08-14T16:29:31.513Z"
   },
   {
    "duration": 255,
    "start_time": "2021-08-14T16:29:32.182Z"
   },
   {
    "duration": 2,
    "start_time": "2021-08-14T16:29:32.438Z"
   },
   {
    "duration": 76,
    "start_time": "2021-08-14T16:29:32.442Z"
   },
   {
    "duration": 610,
    "start_time": "2021-08-14T16:30:51.269Z"
   },
   {
    "duration": 246,
    "start_time": "2021-08-14T16:30:51.881Z"
   },
   {
    "duration": 3,
    "start_time": "2021-08-14T16:30:52.129Z"
   },
   {
    "duration": 374,
    "start_time": "2021-08-14T16:30:52.133Z"
   },
   {
    "duration": 649,
    "start_time": "2021-08-14T16:34:39.832Z"
   },
   {
    "duration": 255,
    "start_time": "2021-08-14T16:34:40.483Z"
   },
   {
    "duration": 2,
    "start_time": "2021-08-14T16:34:40.740Z"
   },
   {
    "duration": 395,
    "start_time": "2021-08-14T16:34:40.744Z"
   },
   {
    "duration": -161,
    "start_time": "2021-08-14T16:35:06.028Z"
   },
   {
    "duration": -168,
    "start_time": "2021-08-14T16:35:06.036Z"
   },
   {
    "duration": -173,
    "start_time": "2021-08-14T16:35:06.042Z"
   },
   {
    "duration": -178,
    "start_time": "2021-08-14T16:35:06.047Z"
   },
   {
    "duration": 833,
    "start_time": "2021-08-14T16:35:32.114Z"
   },
   {
    "duration": 250,
    "start_time": "2021-08-14T16:35:32.949Z"
   },
   {
    "duration": 3,
    "start_time": "2021-08-14T16:35:33.200Z"
   },
   {
    "duration": 558,
    "start_time": "2021-08-14T16:35:33.204Z"
   },
   {
    "duration": 2,
    "start_time": "2021-08-14T16:35:55.178Z"
   },
   {
    "duration": 653,
    "start_time": "2021-08-14T16:36:00.429Z"
   },
   {
    "duration": 273,
    "start_time": "2021-08-14T16:36:01.083Z"
   },
   {
    "duration": 3,
    "start_time": "2021-08-14T16:36:01.357Z"
   },
   {
    "duration": 89,
    "start_time": "2021-08-14T16:36:01.361Z"
   },
   {
    "duration": 640,
    "start_time": "2021-08-14T16:37:06.902Z"
   },
   {
    "duration": 262,
    "start_time": "2021-08-14T16:37:07.544Z"
   },
   {
    "duration": 3,
    "start_time": "2021-08-14T16:37:07.808Z"
   },
   {
    "duration": 402,
    "start_time": "2021-08-14T16:37:07.813Z"
   },
   {
    "duration": 655,
    "start_time": "2021-08-14T16:37:23.210Z"
   },
   {
    "duration": 266,
    "start_time": "2021-08-14T16:37:23.867Z"
   },
   {
    "duration": 2,
    "start_time": "2021-08-14T16:37:24.135Z"
   },
   {
    "duration": 93,
    "start_time": "2021-08-14T16:37:24.138Z"
   },
   {
    "duration": 655,
    "start_time": "2021-08-14T16:44:15.029Z"
   },
   {
    "duration": 268,
    "start_time": "2021-08-14T16:44:15.685Z"
   },
   {
    "duration": 3,
    "start_time": "2021-08-14T16:44:15.955Z"
   },
   {
    "duration": 405,
    "start_time": "2021-08-14T16:44:15.959Z"
   },
   {
    "duration": 661,
    "start_time": "2021-08-14T16:44:38.116Z"
   },
   {
    "duration": 260,
    "start_time": "2021-08-14T16:44:38.779Z"
   },
   {
    "duration": 3,
    "start_time": "2021-08-14T16:44:39.041Z"
   },
   {
    "duration": 407,
    "start_time": "2021-08-14T16:44:39.045Z"
   },
   {
    "duration": 620,
    "start_time": "2021-08-14T16:45:11.461Z"
   },
   {
    "duration": 244,
    "start_time": "2021-08-14T16:45:12.082Z"
   },
   {
    "duration": 3,
    "start_time": "2021-08-14T16:45:12.327Z"
   },
   {
    "duration": 81,
    "start_time": "2021-08-14T16:45:12.332Z"
   },
   {
    "duration": 618,
    "start_time": "2021-08-14T16:47:10.069Z"
   },
   {
    "duration": 261,
    "start_time": "2021-08-14T16:47:10.689Z"
   },
   {
    "duration": 2,
    "start_time": "2021-08-14T16:47:10.952Z"
   },
   {
    "duration": 440,
    "start_time": "2021-08-14T16:47:10.956Z"
   },
   {
    "duration": 595,
    "start_time": "2021-08-14T16:47:56.284Z"
   },
   {
    "duration": 266,
    "start_time": "2021-08-14T16:47:56.881Z"
   },
   {
    "duration": 3,
    "start_time": "2021-08-14T16:47:57.149Z"
   },
   {
    "duration": 397,
    "start_time": "2021-08-14T16:47:57.153Z"
   },
   {
    "duration": 623,
    "start_time": "2021-08-14T16:48:25.601Z"
   },
   {
    "duration": 249,
    "start_time": "2021-08-14T16:48:26.225Z"
   },
   {
    "duration": 3,
    "start_time": "2021-08-14T16:48:26.476Z"
   },
   {
    "duration": 77,
    "start_time": "2021-08-14T16:48:26.480Z"
   },
   {
    "duration": 603,
    "start_time": "2021-08-14T16:48:54.588Z"
   },
   {
    "duration": 249,
    "start_time": "2021-08-14T16:48:55.193Z"
   },
   {
    "duration": 3,
    "start_time": "2021-08-14T16:48:55.443Z"
   },
   {
    "duration": 85,
    "start_time": "2021-08-14T16:48:55.448Z"
   },
   {
    "duration": 845,
    "start_time": "2021-08-14T16:57:35.919Z"
   },
   {
    "duration": 262,
    "start_time": "2021-08-14T16:57:36.766Z"
   },
   {
    "duration": 3,
    "start_time": "2021-08-14T16:57:37.030Z"
   },
   {
    "duration": 435,
    "start_time": "2021-08-14T16:57:37.035Z"
   },
   {
    "duration": 843,
    "start_time": "2021-08-14T16:57:53.668Z"
   },
   {
    "duration": 253,
    "start_time": "2021-08-14T16:57:54.513Z"
   },
   {
    "duration": 3,
    "start_time": "2021-08-14T16:57:54.768Z"
   },
   {
    "duration": 393,
    "start_time": "2021-08-14T16:57:54.772Z"
   },
   {
    "duration": 648,
    "start_time": "2021-08-14T16:58:12.818Z"
   },
   {
    "duration": 263,
    "start_time": "2021-08-14T16:58:13.468Z"
   },
   {
    "duration": 3,
    "start_time": "2021-08-14T16:58:13.733Z"
   },
   {
    "duration": 386,
    "start_time": "2021-08-14T16:58:13.737Z"
   },
   {
    "duration": 625,
    "start_time": "2021-08-14T16:58:48.952Z"
   },
   {
    "duration": 261,
    "start_time": "2021-08-14T16:58:49.579Z"
   },
   {
    "duration": 3,
    "start_time": "2021-08-14T16:58:49.842Z"
   },
   {
    "duration": 395,
    "start_time": "2021-08-14T16:58:49.846Z"
   },
   {
    "duration": 677,
    "start_time": "2021-08-14T17:05:19.811Z"
   },
   {
    "duration": 270,
    "start_time": "2021-08-14T17:05:20.489Z"
   },
   {
    "duration": 3,
    "start_time": "2021-08-14T17:05:20.761Z"
   },
   {
    "duration": 85,
    "start_time": "2021-08-14T17:05:20.766Z"
   },
   {
    "duration": 638,
    "start_time": "2021-08-14T17:08:49.440Z"
   },
   {
    "duration": 267,
    "start_time": "2021-08-14T17:08:50.080Z"
   },
   {
    "duration": 3,
    "start_time": "2021-08-14T17:08:50.350Z"
   },
   {
    "duration": 411,
    "start_time": "2021-08-14T17:08:50.355Z"
   },
   {
    "duration": 636,
    "start_time": "2021-08-14T17:11:52.144Z"
   },
   {
    "duration": 269,
    "start_time": "2021-08-14T17:11:52.781Z"
   },
   {
    "duration": 4,
    "start_time": "2021-08-14T17:11:53.054Z"
   },
   {
    "duration": 383,
    "start_time": "2021-08-14T17:11:53.060Z"
   },
   {
    "duration": 631,
    "start_time": "2021-08-14T17:12:52.351Z"
   },
   {
    "duration": 259,
    "start_time": "2021-08-14T17:12:52.984Z"
   },
   {
    "duration": 3,
    "start_time": "2021-08-14T17:12:53.245Z"
   },
   {
    "duration": 380,
    "start_time": "2021-08-14T17:12:53.249Z"
   },
   {
    "duration": 601,
    "start_time": "2021-08-14T17:13:35.073Z"
   },
   {
    "duration": 272,
    "start_time": "2021-08-14T17:13:35.675Z"
   },
   {
    "duration": 3,
    "start_time": "2021-08-14T17:13:35.949Z"
   },
   {
    "duration": 116,
    "start_time": "2021-08-14T17:13:35.953Z"
   },
   {
    "duration": 653,
    "start_time": "2021-08-14T17:14:57.934Z"
   },
   {
    "duration": 253,
    "start_time": "2021-08-14T17:14:58.588Z"
   },
   {
    "duration": 3,
    "start_time": "2021-08-14T17:14:58.843Z"
   },
   {
    "duration": 83,
    "start_time": "2021-08-14T17:14:58.847Z"
   },
   {
    "duration": 695,
    "start_time": "2021-08-14T17:16:03.019Z"
   },
   {
    "duration": 253,
    "start_time": "2021-08-14T17:16:03.716Z"
   },
   {
    "duration": 4,
    "start_time": "2021-08-14T17:16:03.971Z"
   },
   {
    "duration": 92,
    "start_time": "2021-08-14T17:16:03.977Z"
   },
   {
    "duration": 720,
    "start_time": "2021-08-14T17:18:03.010Z"
   },
   {
    "duration": 251,
    "start_time": "2021-08-14T17:18:03.732Z"
   },
   {
    "duration": 3,
    "start_time": "2021-08-14T17:18:03.985Z"
   },
   {
    "duration": 398,
    "start_time": "2021-08-14T17:18:03.989Z"
   },
   {
    "duration": 694,
    "start_time": "2021-08-14T17:19:30.435Z"
   },
   {
    "duration": 260,
    "start_time": "2021-08-14T17:19:31.132Z"
   },
   {
    "duration": 3,
    "start_time": "2021-08-14T17:19:31.394Z"
   },
   {
    "duration": 436,
    "start_time": "2021-08-14T17:19:31.398Z"
   },
   {
    "duration": 665,
    "start_time": "2021-08-14T17:22:31.063Z"
   },
   {
    "duration": 259,
    "start_time": "2021-08-14T17:22:31.730Z"
   },
   {
    "duration": 4,
    "start_time": "2021-08-14T17:22:31.991Z"
   },
   {
    "duration": 537,
    "start_time": "2021-08-14T17:22:31.997Z"
   },
   {
    "duration": 691,
    "start_time": "2021-08-14T17:24:24.215Z"
   },
   {
    "duration": 253,
    "start_time": "2021-08-14T17:24:24.908Z"
   },
   {
    "duration": 4,
    "start_time": "2021-08-14T17:24:25.164Z"
   },
   {
    "duration": 85,
    "start_time": "2021-08-14T17:24:25.169Z"
   },
   {
    "duration": 657,
    "start_time": "2021-08-14T17:26:36.733Z"
   },
   {
    "duration": 250,
    "start_time": "2021-08-14T17:26:37.392Z"
   },
   {
    "duration": 3,
    "start_time": "2021-08-14T17:26:37.644Z"
   },
   {
    "duration": 390,
    "start_time": "2021-08-14T17:26:37.648Z"
   },
   {
    "duration": 690,
    "start_time": "2021-08-14T17:27:02.617Z"
   },
   {
    "duration": 269,
    "start_time": "2021-08-14T17:27:03.309Z"
   },
   {
    "duration": 3,
    "start_time": "2021-08-14T17:27:03.580Z"
   },
   {
    "duration": 410,
    "start_time": "2021-08-14T17:27:03.585Z"
   },
   {
    "duration": 643,
    "start_time": "2021-08-14T17:27:25.454Z"
   },
   {
    "duration": 260,
    "start_time": "2021-08-14T17:27:26.099Z"
   },
   {
    "duration": 3,
    "start_time": "2021-08-14T17:27:26.361Z"
   },
   {
    "duration": 446,
    "start_time": "2021-08-14T17:27:26.366Z"
   },
   {
    "duration": 652,
    "start_time": "2021-08-14T17:27:41.627Z"
   },
   {
    "duration": 253,
    "start_time": "2021-08-14T17:27:42.281Z"
   },
   {
    "duration": 3,
    "start_time": "2021-08-14T17:27:42.536Z"
   },
   {
    "duration": 84,
    "start_time": "2021-08-14T17:27:42.540Z"
   },
   {
    "duration": 625,
    "start_time": "2021-08-14T17:27:58.365Z"
   },
   {
    "duration": 246,
    "start_time": "2021-08-14T17:27:58.992Z"
   },
   {
    "duration": 3,
    "start_time": "2021-08-14T17:27:59.240Z"
   },
   {
    "duration": 77,
    "start_time": "2021-08-14T17:27:59.245Z"
   },
   {
    "duration": 644,
    "start_time": "2021-08-14T17:29:11.338Z"
   },
   {
    "duration": 248,
    "start_time": "2021-08-14T17:29:11.984Z"
   },
   {
    "duration": 3,
    "start_time": "2021-08-14T17:29:12.234Z"
   },
   {
    "duration": 81,
    "start_time": "2021-08-14T17:29:12.239Z"
   },
   {
    "duration": 91,
    "start_time": "2021-08-14T17:29:12.322Z"
   },
   {
    "duration": 421,
    "start_time": "2021-08-14T17:29:12.415Z"
   },
   {
    "duration": -148,
    "start_time": "2021-08-14T17:29:12.986Z"
   },
   {
    "duration": -150,
    "start_time": "2021-08-14T17:29:12.989Z"
   },
   {
    "duration": 615,
    "start_time": "2021-08-14T17:32:37.176Z"
   },
   {
    "duration": 243,
    "start_time": "2021-08-14T17:32:37.793Z"
   },
   {
    "duration": 3,
    "start_time": "2021-08-14T17:32:38.038Z"
   },
   {
    "duration": 73,
    "start_time": "2021-08-14T17:32:38.043Z"
   },
   {
    "duration": 385,
    "start_time": "2021-08-14T17:32:38.118Z"
   },
   {
    "duration": -188,
    "start_time": "2021-08-14T17:32:38.693Z"
   },
   {
    "duration": -258,
    "start_time": "2021-08-14T17:32:38.764Z"
   },
   {
    "duration": -261,
    "start_time": "2021-08-14T17:32:38.768Z"
   },
   {
    "duration": 1130,
    "start_time": "2021-08-14T17:33:03.687Z"
   },
   {
    "duration": 262,
    "start_time": "2021-08-14T17:33:04.819Z"
   },
   {
    "duration": 4,
    "start_time": "2021-08-14T17:33:05.083Z"
   },
   {
    "duration": 78,
    "start_time": "2021-08-14T17:33:05.089Z"
   },
   {
    "duration": 428,
    "start_time": "2021-08-14T17:33:05.168Z"
   },
   {
    "duration": -145,
    "start_time": "2021-08-14T17:33:05.743Z"
   },
   {
    "duration": -146,
    "start_time": "2021-08-14T17:33:05.745Z"
   },
   {
    "duration": -146,
    "start_time": "2021-08-14T17:33:05.747Z"
   },
   {
    "duration": 643,
    "start_time": "2021-08-14T17:33:30.642Z"
   },
   {
    "duration": 256,
    "start_time": "2021-08-14T17:33:31.287Z"
   },
   {
    "duration": 3,
    "start_time": "2021-08-14T17:33:31.545Z"
   },
   {
    "duration": 91,
    "start_time": "2021-08-14T17:33:31.549Z"
   },
   {
    "duration": 91,
    "start_time": "2021-08-14T17:33:31.642Z"
   },
   {
    "duration": 69,
    "start_time": "2021-08-14T17:33:31.735Z"
   },
   {
    "duration": 76,
    "start_time": "2021-08-14T17:33:31.806Z"
   },
   {
    "duration": 72,
    "start_time": "2021-08-14T17:33:31.884Z"
   },
   {
    "duration": 946,
    "start_time": "2021-08-15T07:19:40.744Z"
   },
   {
    "duration": 64,
    "start_time": "2021-08-15T07:19:41.693Z"
   },
   {
    "duration": 5,
    "start_time": "2021-08-15T07:19:41.761Z"
   },
   {
    "duration": 21,
    "start_time": "2021-08-15T07:19:41.769Z"
   },
   {
    "duration": 29,
    "start_time": "2021-08-15T07:19:41.793Z"
   },
   {
    "duration": 16,
    "start_time": "2021-08-15T07:19:41.825Z"
   },
   {
    "duration": 19,
    "start_time": "2021-08-15T07:19:41.845Z"
   },
   {
    "duration": 31,
    "start_time": "2021-08-15T07:19:41.867Z"
   },
   {
    "duration": 969,
    "start_time": "2021-08-15T07:20:59.668Z"
   },
   {
    "duration": 46,
    "start_time": "2021-08-15T07:21:00.640Z"
   },
   {
    "duration": 4,
    "start_time": "2021-08-15T07:21:00.690Z"
   },
   {
    "duration": 36,
    "start_time": "2021-08-15T07:21:00.698Z"
   },
   {
    "duration": 29,
    "start_time": "2021-08-15T07:21:00.736Z"
   },
   {
    "duration": 12,
    "start_time": "2021-08-15T07:21:00.768Z"
   },
   {
    "duration": 18,
    "start_time": "2021-08-15T07:21:00.782Z"
   },
   {
    "duration": 15,
    "start_time": "2021-08-15T07:21:00.803Z"
   },
   {
    "duration": 938,
    "start_time": "2021-08-15T07:25:32.160Z"
   },
   {
    "duration": 48,
    "start_time": "2021-08-15T07:25:33.100Z"
   },
   {
    "duration": 4,
    "start_time": "2021-08-15T07:25:33.152Z"
   },
   {
    "duration": 28,
    "start_time": "2021-08-15T07:25:33.159Z"
   },
   {
    "duration": 30,
    "start_time": "2021-08-15T07:25:33.189Z"
   },
   {
    "duration": 15,
    "start_time": "2021-08-15T07:25:33.221Z"
   },
   {
    "duration": 24,
    "start_time": "2021-08-15T07:25:33.239Z"
   },
   {
    "duration": 25,
    "start_time": "2021-08-15T07:25:33.266Z"
   },
   {
    "duration": 20,
    "start_time": "2021-08-15T08:01:03.936Z"
   },
   {
    "duration": 1280,
    "start_time": "2021-08-15T08:20:42.161Z"
   },
   {
    "duration": 54,
    "start_time": "2021-08-15T08:20:43.444Z"
   },
   {
    "duration": 16,
    "start_time": "2021-08-15T08:20:43.502Z"
   },
   {
    "duration": 15,
    "start_time": "2021-08-15T08:20:43.521Z"
   },
   {
    "duration": 16,
    "start_time": "2021-08-15T08:20:43.538Z"
   },
   {
    "duration": 15,
    "start_time": "2021-08-15T08:20:43.584Z"
   },
   {
    "duration": 4,
    "start_time": "2021-08-15T08:20:43.601Z"
   },
   {
    "duration": 18,
    "start_time": "2021-08-15T08:20:43.608Z"
   },
   {
    "duration": 28,
    "start_time": "2021-08-15T08:20:43.630Z"
   },
   {
    "duration": 14,
    "start_time": "2021-08-15T08:20:43.686Z"
   },
   {
    "duration": 21,
    "start_time": "2021-08-15T08:20:43.702Z"
   },
   {
    "duration": 16,
    "start_time": "2021-08-15T08:20:43.725Z"
   },
   {
    "duration": 20,
    "start_time": "2021-08-15T09:44:58.900Z"
   },
   {
    "duration": 20,
    "start_time": "2021-08-15T09:45:51.335Z"
   },
   {
    "duration": 502,
    "start_time": "2021-08-15T09:46:14.171Z"
   },
   {
    "duration": 20,
    "start_time": "2021-08-15T09:46:25.643Z"
   },
   {
    "duration": 13,
    "start_time": "2021-08-15T09:47:22.234Z"
   },
   {
    "duration": 14,
    "start_time": "2021-08-15T09:47:36.222Z"
   },
   {
    "duration": 883,
    "start_time": "2021-08-15T10:01:46.217Z"
   },
   {
    "duration": 54,
    "start_time": "2021-08-15T10:01:47.102Z"
   },
   {
    "duration": 14,
    "start_time": "2021-08-15T10:01:47.159Z"
   },
   {
    "duration": 16,
    "start_time": "2021-08-15T10:01:47.176Z"
   },
   {
    "duration": 16,
    "start_time": "2021-08-15T10:01:47.195Z"
   },
   {
    "duration": 14,
    "start_time": "2021-08-15T10:01:47.214Z"
   },
   {
    "duration": 4,
    "start_time": "2021-08-15T10:01:47.231Z"
   },
   {
    "duration": 49,
    "start_time": "2021-08-15T10:01:47.238Z"
   },
   {
    "duration": 33,
    "start_time": "2021-08-15T10:01:47.290Z"
   },
   {
    "duration": 19,
    "start_time": "2021-08-15T10:01:47.325Z"
   },
   {
    "duration": 18,
    "start_time": "2021-08-15T10:01:47.346Z"
   },
   {
    "duration": 25,
    "start_time": "2021-08-15T10:01:47.366Z"
   },
   {
    "duration": 14,
    "start_time": "2021-08-15T10:01:47.393Z"
   },
   {
    "duration": 855,
    "start_time": "2021-08-15T10:02:47.837Z"
   },
   {
    "duration": 46,
    "start_time": "2021-08-15T10:02:48.694Z"
   },
   {
    "duration": 14,
    "start_time": "2021-08-15T10:02:48.743Z"
   },
   {
    "duration": 16,
    "start_time": "2021-08-15T10:02:48.760Z"
   },
   {
    "duration": 16,
    "start_time": "2021-08-15T10:02:48.786Z"
   },
   {
    "duration": 13,
    "start_time": "2021-08-15T10:02:48.805Z"
   },
   {
    "duration": 4,
    "start_time": "2021-08-15T10:02:48.820Z"
   },
   {
    "duration": 20,
    "start_time": "2021-08-15T10:02:48.827Z"
   },
   {
    "duration": 49,
    "start_time": "2021-08-15T10:02:48.850Z"
   },
   {
    "duration": 15,
    "start_time": "2021-08-15T10:02:48.902Z"
   },
   {
    "duration": 20,
    "start_time": "2021-08-15T10:02:48.920Z"
   },
   {
    "duration": 15,
    "start_time": "2021-08-15T10:02:48.943Z"
   },
   {
    "duration": 30,
    "start_time": "2021-08-15T10:02:48.961Z"
   },
   {
    "duration": 28,
    "start_time": "2021-08-15T10:30:30.801Z"
   },
   {
    "duration": 30,
    "start_time": "2021-08-15T10:30:40.271Z"
   },
   {
    "duration": 29,
    "start_time": "2021-08-15T10:30:52.091Z"
   },
   {
    "duration": 32,
    "start_time": "2021-08-15T10:30:58.343Z"
   },
   {
    "duration": 29,
    "start_time": "2021-08-15T10:32:37.921Z"
   },
   {
    "duration": 543,
    "start_time": "2021-08-15T10:33:14.489Z"
   },
   {
    "duration": 31,
    "start_time": "2021-08-15T10:33:34.851Z"
   },
   {
    "duration": 939,
    "start_time": "2021-08-15T10:50:01.176Z"
   },
   {
    "duration": 61,
    "start_time": "2021-08-15T10:50:02.118Z"
   },
   {
    "duration": 16,
    "start_time": "2021-08-15T10:50:02.182Z"
   },
   {
    "duration": 22,
    "start_time": "2021-08-15T10:50:02.201Z"
   },
   {
    "duration": 17,
    "start_time": "2021-08-15T10:50:02.225Z"
   },
   {
    "duration": 15,
    "start_time": "2021-08-15T10:50:02.245Z"
   },
   {
    "duration": 24,
    "start_time": "2021-08-15T10:50:02.263Z"
   },
   {
    "duration": 31,
    "start_time": "2021-08-15T10:50:02.289Z"
   },
   {
    "duration": 31,
    "start_time": "2021-08-15T10:50:02.323Z"
   },
   {
    "duration": 30,
    "start_time": "2021-08-15T10:50:02.357Z"
   },
   {
    "duration": 30,
    "start_time": "2021-08-15T10:50:02.390Z"
   },
   {
    "duration": 34,
    "start_time": "2021-08-15T10:50:02.423Z"
   },
   {
    "duration": 38,
    "start_time": "2021-08-15T10:50:02.459Z"
   },
   {
    "duration": 15,
    "start_time": "2021-08-15T10:50:02.499Z"
   },
   {
    "duration": 31,
    "start_time": "2021-08-15T10:50:02.517Z"
   },
   {
    "duration": 70,
    "start_time": "2021-08-15T10:50:02.550Z"
   },
   {
    "duration": 23,
    "start_time": "2021-08-15T10:50:02.623Z"
   },
   {
    "duration": 891,
    "start_time": "2021-08-15T10:50:34.795Z"
   },
   {
    "duration": 62,
    "start_time": "2021-08-15T10:50:35.689Z"
   },
   {
    "duration": 16,
    "start_time": "2021-08-15T10:50:35.754Z"
   },
   {
    "duration": 15,
    "start_time": "2021-08-15T10:50:35.773Z"
   },
   {
    "duration": 16,
    "start_time": "2021-08-15T10:50:35.791Z"
   },
   {
    "duration": 15,
    "start_time": "2021-08-15T10:50:35.810Z"
   },
   {
    "duration": 4,
    "start_time": "2021-08-15T10:50:35.828Z"
   },
   {
    "duration": 5,
    "start_time": "2021-08-15T10:50:35.838Z"
   },
   {
    "duration": 40,
    "start_time": "2021-08-15T10:50:35.846Z"
   },
   {
    "duration": 6,
    "start_time": "2021-08-15T10:50:35.889Z"
   },
   {
    "duration": 5,
    "start_time": "2021-08-15T10:50:35.898Z"
   },
   {
    "duration": 17,
    "start_time": "2021-08-15T10:50:35.906Z"
   },
   {
    "duration": 29,
    "start_time": "2021-08-15T10:50:35.925Z"
   },
   {
    "duration": 14,
    "start_time": "2021-08-15T10:50:35.985Z"
   },
   {
    "duration": 20,
    "start_time": "2021-08-15T10:50:36.001Z"
   },
   {
    "duration": 15,
    "start_time": "2021-08-15T10:50:36.024Z"
   },
   {
    "duration": 12,
    "start_time": "2021-08-15T10:50:36.042Z"
   },
   {
    "duration": 926,
    "start_time": "2021-08-15T10:52:10.372Z"
   },
   {
    "duration": 62,
    "start_time": "2021-08-15T10:52:11.301Z"
   },
   {
    "duration": 15,
    "start_time": "2021-08-15T10:52:11.366Z"
   },
   {
    "duration": 18,
    "start_time": "2021-08-15T10:52:11.384Z"
   },
   {
    "duration": 18,
    "start_time": "2021-08-15T10:52:11.404Z"
   },
   {
    "duration": 13,
    "start_time": "2021-08-15T10:52:11.424Z"
   },
   {
    "duration": 4,
    "start_time": "2021-08-15T10:52:11.439Z"
   },
   {
    "duration": 18,
    "start_time": "2021-08-15T10:52:11.446Z"
   },
   {
    "duration": 5,
    "start_time": "2021-08-15T10:52:11.487Z"
   },
   {
    "duration": 10,
    "start_time": "2021-08-15T10:52:11.494Z"
   },
   {
    "duration": 20,
    "start_time": "2021-08-15T10:52:11.506Z"
   },
   {
    "duration": 22,
    "start_time": "2021-08-15T10:52:11.529Z"
   },
   {
    "duration": 29,
    "start_time": "2021-08-15T10:52:11.554Z"
   },
   {
    "duration": 16,
    "start_time": "2021-08-15T10:52:11.586Z"
   },
   {
    "duration": 24,
    "start_time": "2021-08-15T10:52:11.604Z"
   },
   {
    "duration": 15,
    "start_time": "2021-08-15T10:52:11.631Z"
   },
   {
    "duration": 19,
    "start_time": "2021-08-15T10:52:11.649Z"
   },
   {
    "duration": 20,
    "start_time": "2021-08-15T11:04:21.135Z"
   },
   {
    "duration": 30,
    "start_time": "2021-08-15T11:09:22.998Z"
   },
   {
    "duration": 18,
    "start_time": "2021-08-15T11:13:29.395Z"
   },
   {
    "duration": 23,
    "start_time": "2021-08-15T11:15:44.847Z"
   },
   {
    "duration": 22,
    "start_time": "2021-08-15T11:16:00.365Z"
   },
   {
    "duration": 499,
    "start_time": "2021-08-15T11:16:48.963Z"
   },
   {
    "duration": 14,
    "start_time": "2021-08-15T11:17:01.105Z"
   },
   {
    "duration": 13,
    "start_time": "2021-08-15T11:17:16.442Z"
   },
   {
    "duration": 12,
    "start_time": "2021-08-15T11:21:17.432Z"
   },
   {
    "duration": 19,
    "start_time": "2021-08-15T11:21:36.355Z"
   },
   {
    "duration": 1247,
    "start_time": "2021-08-15T11:49:36.940Z"
   },
   {
    "duration": 55,
    "start_time": "2021-08-15T11:49:38.191Z"
   },
   {
    "duration": 20,
    "start_time": "2021-08-15T11:49:38.251Z"
   },
   {
    "duration": 20,
    "start_time": "2021-08-15T11:49:38.274Z"
   },
   {
    "duration": 16,
    "start_time": "2021-08-15T11:49:38.297Z"
   },
   {
    "duration": 15,
    "start_time": "2021-08-15T11:49:38.315Z"
   },
   {
    "duration": 3,
    "start_time": "2021-08-15T11:49:38.332Z"
   },
   {
    "duration": 7,
    "start_time": "2021-08-15T11:49:38.337Z"
   },
   {
    "duration": 38,
    "start_time": "2021-08-15T11:49:38.347Z"
   },
   {
    "duration": 4,
    "start_time": "2021-08-15T11:49:38.388Z"
   },
   {
    "duration": 9,
    "start_time": "2021-08-15T11:49:38.394Z"
   },
   {
    "duration": 16,
    "start_time": "2021-08-15T11:49:38.406Z"
   },
   {
    "duration": 29,
    "start_time": "2021-08-15T11:49:38.425Z"
   },
   {
    "duration": 31,
    "start_time": "2021-08-15T11:49:38.456Z"
   },
   {
    "duration": 22,
    "start_time": "2021-08-15T11:49:38.489Z"
   },
   {
    "duration": 15,
    "start_time": "2021-08-15T11:49:38.513Z"
   },
   {
    "duration": 13,
    "start_time": "2021-08-15T11:49:38.531Z"
   },
   {
    "duration": 15,
    "start_time": "2021-08-15T12:07:17.118Z"
   },
   {
    "duration": 20,
    "start_time": "2021-08-15T12:07:30.198Z"
   },
   {
    "duration": 19,
    "start_time": "2021-08-15T12:08:19.806Z"
   },
   {
    "duration": 16,
    "start_time": "2021-08-15T12:09:49.328Z"
   },
   {
    "duration": 15,
    "start_time": "2021-08-15T12:12:47.898Z"
   },
   {
    "duration": 22,
    "start_time": "2021-08-15T12:13:16.590Z"
   },
   {
    "duration": 19,
    "start_time": "2021-08-15T12:15:12.278Z"
   },
   {
    "duration": 39,
    "start_time": "2021-08-15T12:16:58.888Z"
   },
   {
    "duration": 22,
    "start_time": "2021-08-22T20:06:46.168Z"
   },
   {
    "duration": 28,
    "start_time": "2021-08-22T20:07:10.147Z"
   },
   {
    "duration": 32,
    "start_time": "2021-08-22T20:07:17.560Z"
   },
   {
    "duration": 31,
    "start_time": "2021-08-22T20:07:55.432Z"
   },
   {
    "duration": 20,
    "start_time": "2021-08-22T20:08:19.964Z"
   },
   {
    "duration": 20,
    "start_time": "2021-08-22T20:08:39.675Z"
   },
   {
    "duration": 92,
    "start_time": "2021-08-22T20:09:09.903Z"
   },
   {
    "duration": 30,
    "start_time": "2021-08-22T20:09:24.675Z"
   },
   {
    "duration": 19,
    "start_time": "2021-08-22T20:09:36.367Z"
   },
   {
    "duration": 37,
    "start_time": "2021-08-22T20:09:56.807Z"
   },
   {
    "duration": 25,
    "start_time": "2021-08-22T20:24:44.090Z"
   },
   {
    "duration": 19,
    "start_time": "2021-08-22T20:24:56.194Z"
   },
   {
    "duration": 24,
    "start_time": "2021-08-22T20:27:57.686Z"
   },
   {
    "duration": 25,
    "start_time": "2021-08-22T20:28:03.046Z"
   },
   {
    "duration": 18,
    "start_time": "2021-08-22T20:28:16.638Z"
   },
   {
    "duration": 36,
    "start_time": "2021-08-22T20:28:25.350Z"
   },
   {
    "duration": 27,
    "start_time": "2021-08-22T20:28:33.762Z"
   },
   {
    "duration": 19,
    "start_time": "2021-08-22T20:28:43.886Z"
   },
   {
    "duration": 36,
    "start_time": "2021-08-22T20:33:40.122Z"
   },
   {
    "duration": 29,
    "start_time": "2021-08-22T20:34:14.482Z"
   },
   {
    "duration": 11,
    "start_time": "2021-08-22T20:37:10.433Z"
   },
   {
    "duration": 160,
    "start_time": "2021-08-22T20:44:01.957Z"
   },
   {
    "duration": 151,
    "start_time": "2021-08-22T20:44:16.801Z"
   },
   {
    "duration": 197,
    "start_time": "2021-08-22T20:45:00.809Z"
   },
   {
    "duration": 154,
    "start_time": "2021-08-22T20:45:12.444Z"
   },
   {
    "duration": 24,
    "start_time": "2021-08-22T20:45:55.881Z"
   },
   {
    "duration": 567,
    "start_time": "2021-08-22T20:46:25.277Z"
   },
   {
    "duration": 26,
    "start_time": "2021-08-22T20:46:39.804Z"
   },
   {
    "duration": 26,
    "start_time": "2021-08-22T20:46:53.457Z"
   },
   {
    "duration": 32,
    "start_time": "2021-08-22T20:47:34.281Z"
   },
   {
    "duration": 35,
    "start_time": "2021-08-22T20:48:00.069Z"
   },
   {
    "duration": 31,
    "start_time": "2021-08-22T20:57:40.703Z"
   },
   {
    "duration": 152,
    "start_time": "2021-08-22T20:59:25.188Z"
   },
   {
    "duration": 146,
    "start_time": "2021-08-22T20:59:42.270Z"
   },
   {
    "duration": 32,
    "start_time": "2021-08-22T20:59:58.371Z"
   },
   {
    "duration": 41,
    "start_time": "2021-08-22T21:00:16.344Z"
   },
   {
    "duration": 955,
    "start_time": "2021-08-22T21:06:15.391Z"
   },
   {
    "duration": 61,
    "start_time": "2021-08-22T21:06:16.349Z"
   },
   {
    "duration": 17,
    "start_time": "2021-08-22T21:06:16.415Z"
   },
   {
    "duration": 41,
    "start_time": "2021-08-22T21:06:16.435Z"
   },
   {
    "duration": 27,
    "start_time": "2021-08-22T21:06:16.487Z"
   },
   {
    "duration": 15,
    "start_time": "2021-08-22T21:06:16.517Z"
   },
   {
    "duration": 6,
    "start_time": "2021-08-22T21:06:16.535Z"
   },
   {
    "duration": 15,
    "start_time": "2021-08-22T21:06:16.545Z"
   },
   {
    "duration": 25,
    "start_time": "2021-08-22T21:06:16.562Z"
   },
   {
    "duration": 20,
    "start_time": "2021-08-22T21:06:16.589Z"
   },
   {
    "duration": 29,
    "start_time": "2021-08-22T21:06:16.612Z"
   },
   {
    "duration": 34,
    "start_time": "2021-08-22T21:06:16.644Z"
   },
   {
    "duration": 49,
    "start_time": "2021-08-22T21:06:16.681Z"
   },
   {
    "duration": 14,
    "start_time": "2021-08-22T21:06:16.732Z"
   },
   {
    "duration": 13,
    "start_time": "2021-08-22T21:06:16.749Z"
   },
   {
    "duration": 26,
    "start_time": "2021-08-22T21:06:16.765Z"
   },
   {
    "duration": 15,
    "start_time": "2021-08-22T21:06:16.794Z"
   },
   {
    "duration": 15,
    "start_time": "2021-08-22T21:06:16.812Z"
   },
   {
    "duration": 641,
    "start_time": "2021-08-24T15:06:37.128Z"
   },
   {
    "duration": 284,
    "start_time": "2021-08-24T15:06:37.771Z"
   },
   {
    "duration": 72,
    "start_time": "2021-08-24T15:06:38.058Z"
   },
   {
    "duration": 105,
    "start_time": "2021-08-24T15:06:38.132Z"
   },
   {
    "duration": 84,
    "start_time": "2021-08-24T15:06:38.238Z"
   },
   {
    "duration": 68,
    "start_time": "2021-08-24T15:06:38.324Z"
   },
   {
    "duration": 3,
    "start_time": "2021-08-24T15:06:38.393Z"
   },
   {
    "duration": 6,
    "start_time": "2021-08-24T15:06:38.398Z"
   },
   {
    "duration": 12,
    "start_time": "2021-08-24T15:06:38.405Z"
   },
   {
    "duration": 5,
    "start_time": "2021-08-24T15:06:38.419Z"
   },
   {
    "duration": 5,
    "start_time": "2021-08-24T15:06:38.425Z"
   },
   {
    "duration": 79,
    "start_time": "2021-08-24T15:06:38.431Z"
   },
   {
    "duration": 89,
    "start_time": "2021-08-24T15:06:38.512Z"
   },
   {
    "duration": 68,
    "start_time": "2021-08-24T15:06:38.602Z"
   },
   {
    "duration": 10,
    "start_time": "2021-08-24T15:06:38.671Z"
   },
   {
    "duration": 76,
    "start_time": "2021-08-24T15:06:38.683Z"
   },
   {
    "duration": 69,
    "start_time": "2021-08-24T15:06:38.761Z"
   }
  ],
  "kernelspec": {
   "display_name": "Python 3",
   "language": "python",
   "name": "python3"
  },
  "language_info": {
   "codemirror_mode": {
    "name": "ipython",
    "version": 3
   },
   "file_extension": ".py",
   "mimetype": "text/x-python",
   "name": "python",
   "nbconvert_exporter": "python",
   "pygments_lexer": "ipython3",
   "version": "3.8.5"
  },
  "toc": {
   "base_numbering": 1,
   "nav_menu": {},
   "number_sections": true,
   "sideBar": true,
   "skip_h1_title": true,
   "title_cell": "Table of Contents",
   "title_sidebar": "Contents",
   "toc_cell": false,
   "toc_position": {},
   "toc_section_display": true,
   "toc_window_display": false
  }
 },
 "nbformat": 4,
 "nbformat_minor": 2
}
